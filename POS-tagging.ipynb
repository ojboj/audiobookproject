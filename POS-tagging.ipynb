{
 "cells": [
  {
   "cell_type": "markdown",
   "metadata": {},
   "source": [
    "# Part-of-Speech tagging\n",
    "## Classifying a word's type/ lexical category for use in audiobookproject\n",
    "## by Michael Rawcliffe"
   ]
  },
  {
   "cell_type": "code",
   "execution_count": 1,
   "metadata": {},
   "outputs": [
    {
     "name": "stderr",
     "output_type": "stream",
     "text": [
      "Using TensorFlow backend.\n"
     ]
    }
   ],
   "source": [
    "# Imports\n",
    "import numpy as np\n",
    "import keras\n",
    "\n",
    "import nltk\n",
    "# nltk.download('treebank')\n",
    "from nltk.corpus import treebank\n",
    "sentences = treebank.tagged_sents(tagset='universal')\n",
    "\n",
    "import random"
   ]
  },
  {
   "cell_type": "code",
   "execution_count": 10,
   "metadata": {},
   "outputs": [
    {
     "name": "stdout",
     "output_type": "stream",
     "text": [
      "nd.tags: 46 ntags: {'VBG', 'LS', ':', ',', 'NNP', 'RP', 'EX', 'VBD', 'RB', 'DT', 'WDT', 'NNPS', '.', 'VB', 'VBP', 'UH', 'MD', 'JJS', 'PDT', 'SYM', 'WP$', 'CD', 'RBR', 'VBZ', 'PRP$', 'PRP', 'RBS', 'IN', 'JJR', 'WRB', 'POS', 'FW', '#', '-LRB-', '``', \"''\", '-RRB-', 'JJ', 'TO', '-NONE-', 'VBN', 'NNS', '$', 'WP', 'CC', 'NN'}\n"
     ]
    }
   ],
   "source": [
    "#print(random.choice(sentences))\n",
    "\n",
    "# Getting a set of all the possible tags\n",
    "tags = set([\n",
    "    tag for sentence in treebank.tagged_sents()\n",
    "    for _, tag in sentence\n",
    "])\n",
    "print('nd.tags: %s ntags: %s'% (len(tags), tags))"
   ]
  }
 ],
 "metadata": {
  "kernelspec": {
   "display_name": "Python 3",
   "language": "python",
   "name": "python3"
  },
  "language_info": {
   "codemirror_mode": {
    "name": "ipython",
    "version": 3
   },
   "file_extension": ".py",
   "mimetype": "text/x-python",
   "name": "python",
   "nbconvert_exporter": "python",
   "pygments_lexer": "ipython3",
   "version": "3.7.3"
  }
 },
 "nbformat": 4,
 "nbformat_minor": 2
}
