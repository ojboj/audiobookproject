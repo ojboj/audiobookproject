{
 "cells": [
  {
   "cell_type": "code",
   "execution_count": 2,
   "metadata": {},
   "outputs": [],
   "source": [
    "import spacy\n",
    "from spacy import displacy\n",
    "from collections import Counter\n",
    "import en_core_web_sm\n",
    "from pprint import pprint\n",
    "\n",
    "nlp = en_core_web_sm.load()\n",
    "\n",
    "sentence = \"European authorities fined Google a record $5.1 billion on Wednesday for abusing its power in the mobile phone market and ordered the company to alter its practices. Also, MARLEY was dead: to begin with. There is no doubt whatever about that. The register of his burial was signed by the clergyman, the clerk, the undertaker, and the chief mourner. Scrooge signed it: and Scrooge's name was good upon 'Change, for anything he chose to put his hand to. Old Marley was as dead as a door-nail.\" \n",
    "\n",
    "processed_sentence = nlp(sentence)\n",
    "\n",
    "labels = [word.label_ for word in processed_sentence.ents]"
   ]
  },
  {
   "cell_type": "code",
   "execution_count": 9,
   "metadata": {},
   "outputs": [],
   "source": [
    "# we want the people listed, so\n",
    "entities = [[word.start, word.text, word.label_] for word in processed_sentence.ents]"
   ]
  },
  {
   "cell_type": "code",
   "execution_count": 15,
   "metadata": {},
   "outputs": [
    {
     "name": "stdout",
     "output_type": "stream",
     "text": [
      "[{'name': 'MARLEY', 'indexes': [31]}, {'name': 'Scrooge', 'indexes': [69, 74]}, {'name': 'Old Marley', 'indexes': [93]}]\n"
     ]
    }
   ],
   "source": [
    "people = []\n",
    "\n",
    "# For each person in entities\n",
    "for entity_sentence_index, entity_text, entity_label in [entity for entity in entities if entity[2] == 'PERSON']:\n",
    "    # get index of person with the same name\n",
    "#     people_with_same_name = filter(lambda person: person[\"name\"] == entity_text, people)\n",
    "    indexes_of_same_person = [person_index for person_index, person in enumerate(people) if person['name'] == entity_text]\n",
    "    \n",
    "    # TODO: check not greater than 1?\n",
    "    \n",
    "    # if no person by that name, form the person and add to list\n",
    "    if len(indexes_of_same_person) == 0:\n",
    "        person = {}\n",
    "        person[\"name\"] = entity_text\n",
    "        person[\"indexes\"] = [entity_sentence_index]\n",
    "        people.append(person)\n",
    "    # if there is, amend it to add this mention\n",
    "    else:\n",
    "        people[indexes_of_same_person[0]][\"indexes\"].append(entity_sentence_index)"
   ]
  }
 ],
 "metadata": {
  "kernelspec": {
   "display_name": "tt2-env-kernel",
   "language": "python",
   "name": "tt2-env-kernel"
  },
  "language_info": {
   "codemirror_mode": {
    "name": "ipython",
    "version": 3
   },
   "file_extension": ".py",
   "mimetype": "text/x-python",
   "name": "python",
   "nbconvert_exporter": "python",
   "pygments_lexer": "ipython3",
   "version": "3.6.12"
  }
 },
 "nbformat": 4,
 "nbformat_minor": 4
}
