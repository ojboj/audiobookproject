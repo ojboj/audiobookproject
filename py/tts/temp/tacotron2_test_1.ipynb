{
 "cells": [
  {
   "cell_type": "code",
   "execution_count": 1,
   "metadata": {},
   "outputs": [],
   "source": [
    "# For maths and audio processing\n",
    "import numpy as np\n",
    "from scipy.io.wavfile import write\n",
    "\n",
    "# For audio in notebook\n",
    "from IPython.display import Audio"
   ]
  },
  {
   "cell_type": "code",
   "execution_count": 2,
   "metadata": {},
   "outputs": [
    {
     "name": "stderr",
     "output_type": "stream",
     "text": [
      "Using cache found in /Users/boj/.cache/torch/hub/nvidia_DeepLearningExamples_torchhub\n",
      "Using cache found in /Users/boj/.cache/torch/hub/nvidia_DeepLearningExamples_torchhub\n"
     ]
    },
    {
     "name": "stdout",
     "output_type": "stream",
     "text": [
      "Models loaded.\n"
     ]
    }
   ],
   "source": [
    "import torch\n",
    "\n",
    "# Grabbing tacotron2 model and loading it on the cpu\n",
    "tacotron2 = torch.hub.load('nvidia/DeepLearningExamples:torchhub', 'nvidia_tacotron2', pretrained=False)\n",
    "\n",
    "checkpoint_tt2 = torch.hub.load_state_dict_from_url('https://api.ngc.nvidia.com/v2/models/nvidia/tacotron2_pyt_ckpt_fp32/versions/19.09.0/files/nvidia_tacotron2pyt_fp32_20190427', map_location=\"cpu\")\n",
    "\n",
    "# Unwrap the DistributedDataParallel module\n",
    "# module.layer -> layer\n",
    "state_dict_tt2 = {key.replace(\"module.\", \"\"): value for key, value in checkpoint_tt2[\"state_dict\"].items()}\n",
    "\n",
    "# Apply the state dict to the model\n",
    "tacotron2.load_state_dict(state_dict_tt2)\n",
    "\n",
    "tacotron2 = tacotron2.to('cpu')\n",
    "tacotron2.eval()\n",
    "\n",
    "# Grabbing waveglow model and loading it on the cpu\n",
    "waveglow = torch.hub.load('nvidia/DeepLearningExamples:torchhub', 'nvidia_waveglow', pretrained=False)\n",
    "checkpoint_wg = torch.hub.load_state_dict_from_url('https://api.ngc.nvidia.com/v2/models/nvidia/waveglow_ckpt_fp32/versions/19.09.0/files/nvidia_waveglowpyt_fp32_20190427', map_location=\"cpu\")\n",
    "\n",
    "# Unwrap the DistributedDataParallel module\n",
    "# module.layer -> layer\n",
    "state_dict_wg = {key.replace(\"module.\", \"\"): value for key, value in checkpoint_wg[\"state_dict\"].items()}\n",
    "\n",
    "# Apply the state dict to the model\n",
    "waveglow.load_state_dict(state_dict_wg)\n",
    "\n",
    "waveglow = waveglow.remove_weightnorm(waveglow)\n",
    "waveglow = waveglow.to('cpu')\n",
    "waveglow.eval()\n",
    "\n",
    "print('Models loaded.')"
   ]
  },
  {
   "cell_type": "code",
   "execution_count": 5,
   "metadata": {},
   "outputs": [],
   "source": [
    "text = \"Garfunkel is pleased.\""
   ]
  },
  {
   "cell_type": "code",
   "execution_count": 7,
   "metadata": {},
   "outputs": [],
   "source": [
    "# preprocessing\n",
    "sequence = np.array(tacotron2.text_to_sequence(text, ['english_cleaners']))[None, :]\n",
    "sequence = torch.from_numpy(sequence).to(device='cpu', dtype=torch.int64)\n",
    "\n",
    "# run the models\n",
    "with torch.no_grad():\n",
    "    _, mel, _, _ = tacotron2.infer(sequence)\n",
    "    audio = waveglow.infer(mel)\n",
    "audio_numpy = audio[0].data.cpu().numpy()\n",
    "rate = 22050\n",
    "\n",
    "write(\"audio.wav\", rate, audio_numpy)\n",
    "\n",
    "#Audio(audio_numpy, rate=rate)"
   ]
  },
  {
   "cell_type": "code",
   "execution_count": 53,
   "metadata": {},
   "outputs": [
    {
     "name": "stdout",
     "output_type": "stream",
     "text": [
      "kjdbgkbgkjdbg kjabfkjbd sjngnd.\n"
     ]
    }
   ],
   "source": [
    "string_1 = 'kjdbgkbgkjdbg\\nkjabfkjbd\\nsjngnd.'\n",
    "string_2 = ' '.join(string_1.split())\n",
    "\n",
    "print(string_2)"
   ]
  },
  {
   "cell_type": "code",
   "execution_count": null,
   "metadata": {},
   "outputs": [],
   "source": []
  }
 ],
 "metadata": {
  "kernelspec": {
   "display_name": "Python 3",
   "language": "python",
   "name": "python3"
  },
  "language_info": {
   "codemirror_mode": {
    "name": "ipython",
    "version": 3
   },
   "file_extension": ".py",
   "mimetype": "text/x-python",
   "name": "python",
   "nbconvert_exporter": "python",
   "pygments_lexer": "ipython3",
   "version": "3.8.2"
  }
 },
 "nbformat": 4,
 "nbformat_minor": 4
}
